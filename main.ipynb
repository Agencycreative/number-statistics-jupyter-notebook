{
 "cells": [
  {
   "cell_type": "code",
   "execution_count": null,
   "id": "6b7ad7ab",
   "metadata": {},
   "outputs": [],
   "source": [
    "import ipywidgets as widgets\n",
    "import numpy as np\n",
    "from IPython.display import display\n",
    "numbers = []\n",
    "number_input = widgets.IntText(value=0, description='Number:')\n",
    "number_button = widgets.Button(description='Add Number')\n",
    "output = widgets.Output()\n",
    "\n",
    "def on_button_clicked(b):\n",
    "    with output:\n",
    "        output.clear_output()\n",
    "        numbers.append(number_input.value)\n",
    "        number_input.value = 0\n",
    "        display(numbers)\n",
    "        display(\"Minimum: \", np.min(numbers))#minimum value\n",
    "        display(\"First quartile: \", np.percentile(numbers, 25))#first quartile value\n",
    "        display(\"Median: \", np.median(numbers))#median value\n",
    "        display(\"Third quartile: \", np.percentile(numbers, 75))#third quartile value\n",
    "        display(\"Maximum: \", np.max(numbers))#maximum value\n",
    "        display(\"Mean: \", np.mean(numbers))#mean value\n",
    "        display(\"Standard deviation: \", np.std(numbers))#standard deviation value\n",
    "number_button.on_click(on_button_clicked)\n",
    "display(number_input, number_button, output)\n"
   ]
  }
 ],
 "metadata": {
  "language_info": {
   "name": "python"
  }
 },
 "nbformat": 4,
 "nbformat_minor": 5
}

{
 "cells": [
  {
   "cell_type": "code",
   "execution_count": null,
   "id": "6b7ad7ab",
   "metadata": {},
   "outputs": [],
   "source": [
    "import ipywidgets as widgets\n",
    "import numpy as np\n",
    "from IPython.display import display\n",
    "numbers = []\n",
    "number_input = widgets.IntText(value=0, description='Number:')\n",
    "number_button = widgets.Button(description='Add Number')\n",
    "output = widgets.Output()\n",
    "\n",
    "def on_button_clicked(b):\n",
    "    with output:\n",
    "        numbers.append(number_input.value)\n",
    "        number_input.value = 0\n",
    "        display(numbers)\n",
    "number_button.on_click(on_button_clicked)\n",
    "display(number_input, number_button, output)\n"
   ]
  }
 ],
 "metadata": {
  "language_info": {
   "name": "python"
  }
 },
 "nbformat": 4,
 "nbformat_minor": 5
}

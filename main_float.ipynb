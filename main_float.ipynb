{
 "cells": [
  {
   "cell_type": "code",
   "execution_count": null,
   "id": "6b7ad7ab",
   "metadata": {},
   "outputs": [],
   "source": [
    "import ipywidgets as widgets\n",
    "import numpy as np\n",
    "from IPython.display import display\n",
    "numbers = []\n",
    "number_input = widgets.FloatText(value=0, description='Number:')\n",
    "percentile_slider = widgets.FloatSlider(value=0.5, min=0, max=1, description='Percentile:')\n",
    "number_button = widgets.Button(description='Add Number')\n",
    "update_button = widgets.Button(description='Update Stats')\n",
    "output = widgets.Output()\n",
    "\n",
    "def add_number(b):\n",
    "    with output:\n",
    "        output.clear_output()\n",
    "        numbers.append(number_input.value)\n",
    "        number_input.value = 0\n",
    "        display(numbers)\n",
    "        display(\"Minimum: \", np.min(numbers))#minimum value\n",
    "        display(\"First quartile: \", np.percentile(numbers, 25))#first quartile value\n",
    "        display(\"Median: \", np.median(numbers))#median value\n",
    "        display(\"Third quartile: \", np.percentile(numbers, 75))#third quartile value\n",
    "        display(\"Maximum: \", np.max(numbers))#maximum value\n",
    "        display(\"Mean: \", np.mean(numbers))#mean value\n",
    "        display(\"Standard deviation: \", np.std(numbers))#standard deviation value\n",
    "        display(\"Quartile value: \", np.percentile(numbers, percentile_slider.value * 100))#print quartile value\n",
    "def update_output(b):\n",
    "    with output:\n",
    "        output.clear_output()\n",
    "        display(numbers)\n",
    "        display(\"Minimum: \", np.min(numbers))#minimum value\n",
    "        display(\"First quartile: \", np.percentile(numbers, 25))#first quartile value\n",
    "        display(\"Median: \", np.median(numbers))#median value\n",
    "        display(\"Third quartile: \", np.percentile(numbers, 75))#third quartile value\n",
    "        display(\"Maximum: \", np.max(numbers))#maximum value\n",
    "        display(\"Mean: \", np.mean(numbers))#mean value\n",
    "        display(\"Standard deviation: \", np.std(numbers))#standard deviation value\n",
    "        display(\"Quartile value: \", np.percentile(numbers, percentile_slider.value * 100))#print quartile value\n",
    "number_button.on_click(add_number)\n",
    "update_button.on_click(update_output)\n",
    "display(number_input, number_button, update_button, percentile_slider, output)"
   ]
  }
 ],
 "metadata": {
  "language_info": {
   "name": "python"
  }
 },
 "nbformat": 4,
 "nbformat_minor": 5
}
